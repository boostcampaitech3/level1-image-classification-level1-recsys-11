{
 "cells": [
  {
   "cell_type": "markdown",
   "id": "9b6e1d9d-6159-4990-9c5e-c71098d0f1b6",
   "metadata": {},
   "source": [
    "# 대회 개요\n",
    "\n",
    "우리는 카메라로 비춰진 사람 얼굴 이미지 만으로 이 사람이 마스크를 쓰고 있는지, 쓰지 않았는지, 정확히 쓴 것이 맞는지 자동으로 가려낼 수 있는 시스템이 필요합니다. <br>\n",
    "이 시스템이 공공장소 입구에 갖춰져 있다면 적은 인적자원으로도 충분히 검사가 가능할 것입니다.\n",
    "\n",
    "### EDA 탐색적 데이터 분석 (참고)\n",
    "https://eda-ai-lab.tistory.com/13"
   ]
  },
  {
   "cell_type": "code",
   "execution_count": 12,
   "id": "3855add1-ad06-484d-a89d-28e9296f8d26",
   "metadata": {},
   "outputs": [],
   "source": [
    "import pandas as pd\n",
    "from PIL import Image\n",
    "import numpy as np\n",
    "import matplotlib\n",
    "import os\n",
    "import matplotlib.pyplot as plt\n",
    "import random\n",
    "from tqdm import tqdm\n",
    "%matplotlib inline"
   ]
  },
  {
   "cell_type": "code",
   "execution_count": 13,
   "id": "76a43043-b3bd-42ce-8ff0-6798c1f5b416",
   "metadata": {},
   "outputs": [],
   "source": [
    "train_data_dir_path = '/opt/ml/input/raw_data/train/'\n",
    "train_csv_path = train_data_dir_path + 'train.csv'\n",
    "train_image_path = train_data_dir_path + 'images/'"
   ]
  },
  {
   "cell_type": "code",
   "execution_count": 14,
   "id": "1fa22b93-75e4-4228-bf3d-94a43dd90a61",
   "metadata": {},
   "outputs": [],
   "source": [
    "train_df = pd.read_csv(train_csv_path)"
   ]
  },
  {
   "cell_type": "code",
   "execution_count": 15,
   "id": "99e078dc-1ead-4ea7-be33-9fce75bf98c5",
   "metadata": {},
   "outputs": [
    {
     "data": {
      "text/html": [
       "<div>\n",
       "<style scoped>\n",
       "    .dataframe tbody tr th:only-of-type {\n",
       "        vertical-align: middle;\n",
       "    }\n",
       "\n",
       "    .dataframe tbody tr th {\n",
       "        vertical-align: top;\n",
       "    }\n",
       "\n",
       "    .dataframe thead th {\n",
       "        text-align: right;\n",
       "    }\n",
       "</style>\n",
       "<table border=\"1\" class=\"dataframe\">\n",
       "  <thead>\n",
       "    <tr style=\"text-align: right;\">\n",
       "      <th></th>\n",
       "      <th>id</th>\n",
       "      <th>gender</th>\n",
       "      <th>race</th>\n",
       "      <th>age</th>\n",
       "      <th>path</th>\n",
       "    </tr>\n",
       "  </thead>\n",
       "  <tbody>\n",
       "    <tr>\n",
       "      <th>0</th>\n",
       "      <td>000001</td>\n",
       "      <td>female</td>\n",
       "      <td>Asian</td>\n",
       "      <td>45</td>\n",
       "      <td>000001_female_Asian_45</td>\n",
       "    </tr>\n",
       "    <tr>\n",
       "      <th>1</th>\n",
       "      <td>000002</td>\n",
       "      <td>female</td>\n",
       "      <td>Asian</td>\n",
       "      <td>52</td>\n",
       "      <td>000002_female_Asian_52</td>\n",
       "    </tr>\n",
       "    <tr>\n",
       "      <th>2</th>\n",
       "      <td>000004</td>\n",
       "      <td>male</td>\n",
       "      <td>Asian</td>\n",
       "      <td>54</td>\n",
       "      <td>000004_male_Asian_54</td>\n",
       "    </tr>\n",
       "    <tr>\n",
       "      <th>3</th>\n",
       "      <td>000005</td>\n",
       "      <td>female</td>\n",
       "      <td>Asian</td>\n",
       "      <td>58</td>\n",
       "      <td>000005_female_Asian_58</td>\n",
       "    </tr>\n",
       "    <tr>\n",
       "      <th>4</th>\n",
       "      <td>000006</td>\n",
       "      <td>female</td>\n",
       "      <td>Asian</td>\n",
       "      <td>59</td>\n",
       "      <td>000006_female_Asian_59</td>\n",
       "    </tr>\n",
       "    <tr>\n",
       "      <th>...</th>\n",
       "      <td>...</td>\n",
       "      <td>...</td>\n",
       "      <td>...</td>\n",
       "      <td>...</td>\n",
       "      <td>...</td>\n",
       "    </tr>\n",
       "    <tr>\n",
       "      <th>2695</th>\n",
       "      <td>006954</td>\n",
       "      <td>male</td>\n",
       "      <td>Asian</td>\n",
       "      <td>19</td>\n",
       "      <td>006954_male_Asian_19</td>\n",
       "    </tr>\n",
       "    <tr>\n",
       "      <th>2696</th>\n",
       "      <td>006955</td>\n",
       "      <td>male</td>\n",
       "      <td>Asian</td>\n",
       "      <td>19</td>\n",
       "      <td>006955_male_Asian_19</td>\n",
       "    </tr>\n",
       "    <tr>\n",
       "      <th>2697</th>\n",
       "      <td>006956</td>\n",
       "      <td>male</td>\n",
       "      <td>Asian</td>\n",
       "      <td>19</td>\n",
       "      <td>006956_male_Asian_19</td>\n",
       "    </tr>\n",
       "    <tr>\n",
       "      <th>2698</th>\n",
       "      <td>006957</td>\n",
       "      <td>male</td>\n",
       "      <td>Asian</td>\n",
       "      <td>20</td>\n",
       "      <td>006957_male_Asian_20</td>\n",
       "    </tr>\n",
       "    <tr>\n",
       "      <th>2699</th>\n",
       "      <td>006959</td>\n",
       "      <td>male</td>\n",
       "      <td>Asian</td>\n",
       "      <td>19</td>\n",
       "      <td>006959_male_Asian_19</td>\n",
       "    </tr>\n",
       "  </tbody>\n",
       "</table>\n",
       "<p>2700 rows × 5 columns</p>\n",
       "</div>"
      ],
      "text/plain": [
       "          id  gender   race  age                    path\n",
       "0     000001  female  Asian   45  000001_female_Asian_45\n",
       "1     000002  female  Asian   52  000002_female_Asian_52\n",
       "2     000004    male  Asian   54    000004_male_Asian_54\n",
       "3     000005  female  Asian   58  000005_female_Asian_58\n",
       "4     000006  female  Asian   59  000006_female_Asian_59\n",
       "...      ...     ...    ...  ...                     ...\n",
       "2695  006954    male  Asian   19    006954_male_Asian_19\n",
       "2696  006955    male  Asian   19    006955_male_Asian_19\n",
       "2697  006956    male  Asian   19    006956_male_Asian_19\n",
       "2698  006957    male  Asian   20    006957_male_Asian_20\n",
       "2699  006959    male  Asian   19    006959_male_Asian_19\n",
       "\n",
       "[2700 rows x 5 columns]"
      ]
     },
     "execution_count": 15,
     "metadata": {},
     "output_type": "execute_result"
    }
   ],
   "source": [
    "train_df"
   ]
  },
  {
   "cell_type": "code",
   "execution_count": 16,
   "id": "9e903ed1-22c2-415b-9c07-369c2254fe95",
   "metadata": {},
   "outputs": [
    {
     "data": {
      "text/plain": [
       "0    /opt/ml/input/raw_data/train/images/000001_fem...\n",
       "1    /opt/ml/input/raw_data/train/images/000002_fem...\n",
       "2    /opt/ml/input/raw_data/train/images/000004_mal...\n",
       "3    /opt/ml/input/raw_data/train/images/000005_fem...\n",
       "Name: path, dtype: object"
      ]
     },
     "execution_count": 16,
     "metadata": {},
     "output_type": "execute_result"
    }
   ],
   "source": [
    "image_paths = train_image_path + train_df['path']\n",
    "image_paths[:4]"
   ]
  },
  {
   "cell_type": "markdown",
   "id": "cb21a30e-dfa8-4bea-bbfa-108c2d2bd1da",
   "metadata": {},
   "source": [
    "## 랜덤한 N명 이미지 확인하기"
   ]
  },
  {
   "cell_type": "code",
   "execution_count": 17,
   "id": "803e8b80-b63b-447c-91d5-829df5a282e1",
   "metadata": {},
   "outputs": [
    {
     "data": {
      "text/plain": [
       "\"\\ntarget_number = 5\\nrandom_target = random.sample(list(image_paths), target_number)\\nfig, axes = plt.subplots(target_number, 7, figsize=(28,target_number*8))\\n\\nfor i, target in enumerate(random_target):\\n    print(i, target)\\n    images = [image for image in os.listdir(target) if image[0] != '.']\\n    for j, types in enumerate(sorted(images)) : \\n        axes[i][j].imshow(Image.open(os.path.join(target, types)))\\n        axes[i][j].set_title( target[39:] + ' ' + types[:-4]  , fontweight='bold')\\n        axes[i][j].axis('off')   \\n\""
      ]
     },
     "execution_count": 17,
     "metadata": {},
     "output_type": "execute_result"
    }
   ],
   "source": [
    "# 이미지는 저작권에 의해 결과물을 보이지 않게 해두었습니다.\n",
    "\"\"\"\n",
    "target_number = 5\n",
    "random_target = random.sample(list(image_paths), target_number)\n",
    "fig, axes = plt.subplots(target_number, 7, figsize=(28,target_number*8))\n",
    "\n",
    "for i, target in enumerate(random_target):\n",
    "    print(i, target)\n",
    "    images = [image for image in os.listdir(target) if image[0] != '.']\n",
    "    for j, types in enumerate(sorted(images)) : \n",
    "        axes[i][j].imshow(Image.open(os.path.join(target, types)))\n",
    "        axes[i][j].set_title( target[39:] + ' ' + types[:-4]  , fontweight='bold')\n",
    "        axes[i][j].axis('off')   \n",
    "\"\"\""
   ]
  },
  {
   "cell_type": "code",
   "execution_count": 18,
   "id": "fc9dd626-eb58-4401-bcd1-8115f8b2be72",
   "metadata": {},
   "outputs": [
    {
     "data": {
      "text/plain": [
       "2700"
      ]
     },
     "execution_count": 18,
     "metadata": {},
     "output_type": "execute_result"
    }
   ],
   "source": [
    "len(train_df)"
   ]
  },
  {
   "cell_type": "code",
   "execution_count": 19,
   "id": "74f0072f-697c-418d-af1c-47d418fab8b5",
   "metadata": {},
   "outputs": [
    {
     "data": {
      "text/plain": [
       "Asian    2700\n",
       "Name: race, dtype: int64"
      ]
     },
     "execution_count": 19,
     "metadata": {},
     "output_type": "execute_result"
    }
   ],
   "source": [
    "train_df['race'].value_counts()"
   ]
  },
  {
   "cell_type": "code",
   "execution_count": 20,
   "id": "90ef2089-c51d-470d-8e7b-104c30d62d1b",
   "metadata": {},
   "outputs": [
    {
     "data": {
      "text/plain": [
       "female    1658\n",
       "male      1042\n",
       "Name: gender, dtype: int64"
      ]
     },
     "execution_count": 20,
     "metadata": {},
     "output_type": "execute_result"
    }
   ],
   "source": [
    "train_df['gender'].value_counts()"
   ]
  },
  {
   "cell_type": "markdown",
   "id": "d6beeea6-8546-4c67-a15f-be7883da6094",
   "metadata": {},
   "source": [
    "## 각 사람 7장의 이미지 사이즈"
   ]
  },
  {
   "cell_type": "code",
   "execution_count": 21,
   "id": "be0e44fc-1d82-42fc-b675-be45bad16687",
   "metadata": {},
   "outputs": [
    {
     "name": "stdout",
     "output_type": "stream",
     "text": [
      "/opt/ml/input/raw_data/train/images/000001_female_Asian_45\n",
      "(384, 512)\n",
      "(512, 384, 3)\n",
      "(384, 512)\n",
      "(512, 384, 3)\n",
      "(384, 512)\n",
      "(512, 384, 3)\n",
      "(384, 512)\n",
      "(512, 384, 3)\n",
      "(384, 512)\n",
      "(512, 384, 3)\n",
      "(384, 512)\n",
      "(512, 384, 3)\n",
      "(384, 512)\n",
      "(512, 384, 3)\n"
     ]
    }
   ],
   "source": [
    "for path in train_df['path'][:1]:\n",
    "    target = train_image_path + path\n",
    "    print(target)\n",
    "    images = [target +'/' + image for image in os.listdir(target) if image[0] != '.']\n",
    "    for img_path in images:\n",
    "        train_image = Image.open(img_path)\n",
    "        print(train_image.size)\n",
    "        print(np.array(train_image).shape)"
   ]
  },
  {
   "cell_type": "markdown",
   "id": "1fa489cc-025e-4105-8236-d7bbf26c23b6",
   "metadata": {
    "tags": []
   },
   "source": [
    "## 모든 이미지 사이즈 모두 동일한지 체크"
   ]
  },
  {
   "cell_type": "code",
   "execution_count": 22,
   "id": "633419b6-37ec-4fe7-b195-6601711a167a",
   "metadata": {},
   "outputs": [
    {
     "name": "stderr",
     "output_type": "stream",
     "text": [
      "100%|██████████| 2700/2700 [00:40<00:00, 66.55it/s]"
     ]
    },
    {
     "name": "stdout",
     "output_type": "stream",
     "text": [
      "all images are same size\n"
     ]
    },
    {
     "name": "stderr",
     "output_type": "stream",
     "text": [
      "\n"
     ]
    }
   ],
   "source": [
    "found = False\n",
    "for path in tqdm(train_df['path']):\n",
    "    target = train_image_path + path\n",
    "    images = [target +'/' + image for image in os.listdir(target) if image[0] != '.']\n",
    "    for img_path in images:\n",
    "        train_image = Image.open(img_path)\n",
    "        if np.array(train_image).shape != (512, 384, 3):\n",
    "            print('diff')\n",
    "            found = True\n",
    "if not found:\n",
    "    print('all images are same size')"
   ]
  },
  {
   "cell_type": "markdown",
   "id": "d3914f75-17c6-4bc8-9b6a-c8368f1560e3",
   "metadata": {},
   "source": [
    "## 나이, 성별 클래스별 분포 (Class Description 참고)"
   ]
  },
  {
   "cell_type": "code",
   "execution_count": 23,
   "id": "ad9da236-1395-4659-a305-41fc887bc167",
   "metadata": {},
   "outputs": [
    {
     "data": {
      "text/plain": [
       "0       45\n",
       "1       52\n",
       "2       54\n",
       "3       58\n",
       "4       59\n",
       "        ..\n",
       "2695    19\n",
       "2696    19\n",
       "2697    19\n",
       "2698    20\n",
       "2699    19\n",
       "Name: age, Length: 2700, dtype: int64"
      ]
     },
     "execution_count": 23,
     "metadata": {},
     "output_type": "execute_result"
    }
   ],
   "source": [
    "train_df['age']"
   ]
  },
  {
   "cell_type": "code",
   "execution_count": 24,
   "id": "e59f2402-c171-47c5-aa89-c93f118e8f2a",
   "metadata": {},
   "outputs": [
    {
     "data": {
      "text/plain": [
       "<matplotlib.axes._subplots.AxesSubplot at 0x7fc83155abb0>"
      ]
     },
     "execution_count": 24,
     "metadata": {},
     "output_type": "execute_result"
    },
    {
     "data": {
      "image/png": "[encoded data removed]",
      "text/plain": [
       "<Figure size 720x720 with 1 Axes>"
      ]
     },
     "metadata": {
      "needs_background": "light"
     },
     "output_type": "display_data"
    }
   ],
   "source": [
    "train_df['age'].value_counts().sort_index().plot(kind='bar', figsize=(10,10))"
   ]
  },
  {
   "cell_type": "markdown",
   "id": "36d83cda-e783-417b-aa49-e59ca957dc66",
   "metadata": {},
   "source": [
    "### 나이는 30 미만 young, 30이상 60 미만 mid 60이상 old로 분류"
   ]
  },
  {
   "cell_type": "code",
   "execution_count": 25,
   "id": "e867260d-127c-4115-b818-01401c9c87c7",
   "metadata": {},
   "outputs": [],
   "source": [
    "def age_categorize(age):\n",
    "    if age < 30:\n",
    "        return 'young'\n",
    "    elif age >= 30 and age <60:\n",
    "        return 'mid'\n",
    "    else:\n",
    "        return 'old'"
   ]
  },
  {
   "cell_type": "code",
   "execution_count": 26,
   "id": "3f6198d9-5fba-49c3-8f0a-9f141d63a96d",
   "metadata": {},
   "outputs": [],
   "source": [
    "train_df['age_cat'] = train_df['age'].apply(age_categorize)"
   ]
  },
  {
   "cell_type": "code",
   "execution_count": 27,
   "id": "07b9942c-fd8a-4c8e-b739-fae0fab941a1",
   "metadata": {},
   "outputs": [
    {
     "data": {
      "text/plain": [
       "young    1281\n",
       "mid      1227\n",
       "old       192\n",
       "Name: age_cat, dtype: int64"
      ]
     },
     "execution_count": 27,
     "metadata": {},
     "output_type": "execute_result"
    }
   ],
   "source": [
    "train_df['age_cat'].value_counts()"
   ]
  },
  {
   "cell_type": "code",
   "execution_count": 28,
   "id": "333e14f6-1bce-4911-bbe7-5c63f7deea70",
   "metadata": {},
   "outputs": [
    {
     "data": {
      "text/plain": [
       "<matplotlib.axes._subplots.AxesSubplot at 0x7fc830aa2190>"
      ]
     },
     "execution_count": 28,
     "metadata": {},
     "output_type": "execute_result"
    },
    {
     "data": {
      "image/png": "[encoded data removed]",
      "text/plain": [
       "<Figure size 720x720 with 1 Axes>"
      ]
     },
     "metadata": {
      "needs_background": "light"
     },
     "output_type": "display_data"
    }
   ],
   "source": [
    "train_df['age_cat'].value_counts().plot(kind='bar', figsize=(10,10), grid=True)"
   ]
  },
  {
   "cell_type": "code",
   "execution_count": 29,
   "id": "c406aff0-5408-4644-b70e-b3dfcd8b6abd",
   "metadata": {},
   "outputs": [
    {
     "data": {
      "text/plain": [
       "female    1658\n",
       "male      1042\n",
       "Name: gender, dtype: int64"
      ]
     },
     "execution_count": 29,
     "metadata": {},
     "output_type": "execute_result"
    }
   ],
   "source": [
    "train_df['gender'].value_counts()"
   ]
  },
  {
   "cell_type": "code",
   "execution_count": 30,
   "id": "e061765d-3eea-42c2-b9d2-e4407590620a",
   "metadata": {},
   "outputs": [
    {
     "data": {
      "text/plain": [
       "<matplotlib.axes._subplots.AxesSubplot at 0x7fc830cf24c0>"
      ]
     },
     "execution_count": 30,
     "metadata": {},
     "output_type": "execute_result"
    },
    {
     "data": {
      "image/png": "[encoded data removed]",
      "text/plain": [
       "<Figure size 720x720 with 1 Axes>"
      ]
     },
     "metadata": {
      "needs_background": "light"
     },
     "output_type": "display_data"
    }
   ],
   "source": [
    "train_df['gender'].value_counts().plot(kind='bar', figsize=(10,10))"
   ]
  },
  {
   "cell_type": "code",
   "execution_count": 31,
   "id": "a5b19a96-7380-4149-9d76-579d52fae208",
   "metadata": {},
   "outputs": [
    {
     "data": {
      "text/plain": [
       "Asian    2700\n",
       "Name: race, dtype: int64"
      ]
     },
     "execution_count": 31,
     "metadata": {},
     "output_type": "execute_result"
    }
   ],
   "source": [
    "train_df['race'].value_counts()"
   ]
  },
  {
   "cell_type": "code",
   "execution_count": 32,
   "id": "0e252540-a4d7-4826-a33f-da18b6261484",
   "metadata": {},
   "outputs": [
    {
     "data": {
      "text/plain": [
       "<matplotlib.axes._subplots.AxesSubplot at 0x7fc830cbcd90>"
      ]
     },
     "execution_count": 32,
     "metadata": {},
     "output_type": "execute_result"
    },
    {
     "data": {
      "image/png": "[encoded data removed]",
      "text/plain": [
       "<Figure size 432x288 with 1 Axes>"
      ]
     },
     "metadata": {
      "needs_background": "light"
     },
     "output_type": "display_data"
    }
   ],
   "source": [
    "train_df['race'].value_counts().plot(kind='bar')"
   ]
  },
  {
   "cell_type": "code",
   "execution_count": null,
   "id": "af291d4e-d9ed-4060-847f-ebc3d71eb272",
   "metadata": {},
   "outputs": [],
   "source": []
  },
  {
   "cell_type": "code",
   "execution_count": null,
   "id": "fbbf4b0d-2778-460f-896a-78806d570113",
   "metadata": {},
   "outputs": [],
   "source": []
  }
 ],
 "metadata": {
  "kernelspec": {
   "display_name": "Python 3 (ipykernel)",
   "language": "python",
   "name": "python3"
  },
  "language_info": {
   "codemirror_mode": {
    "name": "ipython",
    "version": 3
   },
   "file_extension": ".py",
   "mimetype": "text/x-python",
   "name": "python",
   "nbconvert_exporter": "python",
   "pygments_lexer": "ipython3",
   "version": "3.8.5"
  }
 },
 "nbformat": 4,
 "nbformat_minor": 5
}
