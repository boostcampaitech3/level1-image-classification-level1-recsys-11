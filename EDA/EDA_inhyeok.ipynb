{
 "cells": [
  {
   "cell_type": "code",
   "execution_count": null,
   "id": "46caf1ef-9575-49d2-9ce3-e5547baa4895",
   "metadata": {},
   "outputs": [],
   "source": [
    "import numpy as np\n",
    "import pandas as pd\n",
    "import cv2\n",
    "import os\n",
    "from PIL import Image # 이미지를 불러오기 위한 라이브러리\n",
    "import matplotlib.pyplot as plt # 그림을 표시하기 위한 라이브러리\n",
    "%matplotlib inline\n",
    "import warnings\n",
    "import matplotlib as mpl\n",
    "import seaborn as sns\n"
   ]
  },
  {
   "cell_type": "markdown",
   "id": "20955449",
   "metadata": {},
   "source": [
    "### path 설정 및 데이터 확인"
   ]
  },
  {
   "cell_type": "code",
   "execution_count": null,
   "id": "528d01d9",
   "metadata": {},
   "outputs": [],
   "source": [
    "train_path = \"~/input/data/train\"\n",
    "train_data = pd.read_csv(train_path+'/train.csv')\n",
    "train_data"
   ]
  },
  {
   "cell_type": "markdown",
   "id": "e53f7825",
   "metadata": {},
   "source": [
    "# input 값에 대한 분석"
   ]
  },
  {
   "cell_type": "markdown",
   "id": "98af3046",
   "metadata": {},
   "source": [
    "### Null 값은 없다."
   ]
  },
  {
   "cell_type": "code",
   "execution_count": null,
   "id": "c015e1de",
   "metadata": {},
   "outputs": [],
   "source": [
    "train_data.isnull().sum()"
   ]
  },
  {
   "cell_type": "code",
   "execution_count": null,
   "id": "7be72211",
   "metadata": {},
   "outputs": [],
   "source": [
    "train_data"
   ]
  },
  {
   "cell_type": "markdown",
   "id": "b7c1e86d",
   "metadata": {},
   "source": [
    "### 남자 여자\n",
    "여자가 더 많다."
   ]
  },
  {
   "cell_type": "code",
   "execution_count": null,
   "id": "d02a851d",
   "metadata": {},
   "outputs": [],
   "source": [
    "sns.countplot(x='gender',data = train_data)"
   ]
  },
  {
   "cell_type": "markdown",
   "id": "de894ecc",
   "metadata": {},
   "source": [
    "### 나이별 \n",
    "60 세 넘는 사람은 없었습니다.\n",
    "-> 20살쪽과 60살쪽에 편향되어있다."
   ]
  },
  {
   "cell_type": "code",
   "execution_count": null,
   "id": "bb4f6636",
   "metadata": {},
   "outputs": [],
   "source": [
    "train_data[(train_data.age > 60)]"
   ]
  },
  {
   "cell_type": "code",
   "execution_count": null,
   "id": "5f57f1ee",
   "metadata": {},
   "outputs": [],
   "source": [
    "condition1 = (train_data.age < 30)\n",
    "condition2 = (train_data.age >= 30) & (train_data.age < 60) \n",
    "condition3 = (train_data.age > 60) # 조건을 만족하는 사람은 없다."
   ]
  },
  {
   "cell_type": "code",
   "execution_count": null,
   "id": "111a481b",
   "metadata": {},
   "outputs": [],
   "source": [
    "fig, axes = plt.subplots(1, 2, figsize=(15, 5))\n",
    "sns.countplot(x='age',\n",
    "              data = train_data[condition1],\n",
    "              ax = axes[0],\n",
    "              )\n",
    "sns.countplot(x='age',\n",
    "              data = train_data[condition2],\n",
    "              ax = axes[1],\n",
    "              )"
   ]
  },
  {
   "cell_type": "markdown",
   "id": "64a029bb",
   "metadata": {},
   "source": [
    "### image list에 이미지 주소 저장 "
   ]
  },
  {
   "cell_type": "code",
   "execution_count": null,
   "id": "a718d0d2-2506-4ce6-b355-b30635e4a8cc",
   "metadata": {},
   "outputs": [],
   "source": [
    "train_file_path = train_data['path']\n",
    "train_image = []\n",
    "for file in train_file_path:\n",
    "    train_image.append(\"/opt/ml/input/data/train/images/\" + file + \"/mask1.jpg\")\n",
    "\n"
   ]
  },
  {
   "cell_type": "markdown",
   "id": "bb4a0ad0",
   "metadata": {},
   "source": [
    "### image Test\n",
    "size = (384, 512) (width, height)\n",
    "\n",
    "- mask 1 & 2 & 3 & 4 -> 색상별 마스크 랜덤.\n",
    "- mask5 -> 두껍고 무늬있는 마스크\n",
    "- incorrect_mask -> 잘못쓰고있는 모습\n",
    "- normal -> 안끼고 있음."
   ]
  },
  {
   "cell_type": "code",
   "execution_count": null,
   "id": "563b92d0",
   "metadata": {},
   "outputs": [],
   "source": [
    "image0 = Image.open(train_image[0])\n",
    "image1 = Image.open(train_image[1])\n",
    "image0_size = image0.size\n",
    "image1_size = image1.size\n",
    "print(image0_size)\n",
    "print(image1_size)\n",
    "plt.imshow(image0)"
   ]
  },
  {
   "cell_type": "markdown",
   "id": "2b85e1ad",
   "metadata": {},
   "source": [
    "### 이미지 자르기 정도\n",
    "무조건 왼쪽, 위를 기준으로 한다.\\\n",
    "width  (90~ 270 까지, 왼쪽기준)\\\n",
    "height (100~ 380 까지, 위쪽기준)"
   ]
  },
  {
   "cell_type": "code",
   "execution_count": null,
   "id": "f9fdef2f",
   "metadata": {},
   "outputs": [],
   "source": [
    "width, height = image1.size\n",
    "left = 90\n",
    "top = 100\n",
    "right = 270\n",
    "bottom = 380\n",
    "image1_cropped = image1.crop((left,top,right,bottom))\n",
    "plt.imshow(image1_cropped)"
   ]
  },
  {
   "cell_type": "markdown",
   "id": "80751000",
   "metadata": {},
   "source": [
    "### 채널별 통계값\n",
    "어떻게 해야 할까?"
   ]
  },
  {
   "cell_type": "markdown",
   "id": "c9ac2e7d",
   "metadata": {},
   "source": [
    "# 타겟 값에 대한 분석"
   ]
  },
  {
   "cell_type": "markdown",
   "id": "9d401477",
   "metadata": {},
   "source": [
    "분류 문제이다.\n",
    "y값에 대한 특성\n",
    "- 마스크 유무(3), 성별(2), 나이(3)\n",
    "- 마스크 유무는 제대로 썻는가, 이상하게 썼는가, 안썼는가\n",
    "- 나이는 30살 60살 기준으로 나눈다.\n"
   ]
  },
  {
   "cell_type": "code",
   "execution_count": null,
   "id": "4fe59bb5",
   "metadata": {},
   "outputs": [],
   "source": [
    "train_image[0]"
   ]
  },
  {
   "cell_type": "code",
   "execution_count": null,
   "id": "c66cb516",
   "metadata": {},
   "outputs": [],
   "source": [
    "cv_test =[]\n",
    "cv_test.append(cv2.imread(train_image[0]))\n",
    "cv_test.append(cv2.imread(train_image[1]))\n",
    "for i in cv_test:\n",
    "    plt.imshow(i) \n",
    "plt.xticks([]) \n",
    "plt.yticks([]) \n",
    "plt.show()\n"
   ]
  }
 ],
 "metadata": {
  "kernelspec": {
   "display_name": "Python 3 (ipykernel)",
   "language": "python",
   "name": "python3"
  },
  "language_info": {
   "codemirror_mode": {
    "name": "ipython",
    "version": 3
   },
   "file_extension": ".py",
   "mimetype": "text/x-python",
   "name": "python",
   "nbconvert_exporter": "python",
   "pygments_lexer": "ipython3",
   "version": "3.8.5"
  }
 },
 "nbformat": 4,
 "nbformat_minor": 5
}
