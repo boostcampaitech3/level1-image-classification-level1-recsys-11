{
 "cells": [
  {
   "cell_type": "markdown",
   "metadata": {},
   "source": [
    "# Summary\n",
    "경로를 따로 바꾸실 필요 없이 코드를 한 번 돌리시면 raw data(원본데이터)는 따로 복사해두고, 기존 경로(\"/opt/ml/input/data\")의 데이터가 변경됩니다.\n",
    "따라서, raw data를 다시 변경하고 싶으시다면 경로를 재설정하시기 바랍니다.\n",
    "\n",
    "1. 원본 데이터 복사\n",
    "    - \"/opt/ml/input/data\" 경로를 기준으로 파일을 복사하여 \"/opt/ml/input/raw_data\"로 저장합니다. (백업용)\n",
    "2. 파일명 변경\n",
    "    - \"/opt/ml/input/data\" 경로에 있는 데이터가 변경됩니다.\n",
    "    - \"change_table.csv\" 파일을 기준으로 변경됩니다. \n"
   ]
  },
  {
   "cell_type": "code",
   "execution_count": 126,
   "metadata": {},
   "outputs": [
    {
     "data": {
      "text/plain": [
       "'/opt/ml/input/test_data'"
      ]
     },
     "execution_count": 126,
     "metadata": {},
     "output_type": "execute_result"
    }
   ],
   "source": [
    "import shutil, os\n",
    "import pandas as pd\n",
    "from itertools import chain\n",
    "shutil.copytree(\"/opt/ml/input/data\", \"/opt/ml/input/test_data\")\n",
    "\n"
   ]
  },
  {
   "cell_type": "code",
   "execution_count": 109,
   "metadata": {},
   "outputs": [],
   "source": [
    "folder_dir = '/opt/ml/input/test_data2/train/images'\n",
    "folder_name_tmp = os.listdir(folder_dir)\n",
    "folder_name = list(set([x.replace('._','') for x in folder_name_tmp]))  # '._' 제거\n",
    "folder_name.sort()\n",
    "\n",
    "file_list = [[folder_name[i]+\"/\"+file for file in os.listdir(os.path.join(folder_dir, folder_name[i])) if '._' not in file and 'ipynb' not in file] for i in range(len(folder_name))]\n",
    "all_file_list = list(chain(*file_list)) # 전체 파일명 (폴더별로 가져와 2차원 -> 1차원으로 풀기)"
   ]
  },
  {
   "cell_type": "code",
   "execution_count": 124,
   "metadata": {},
   "outputs": [
    {
     "data": {
      "text/html": [
       "<div>\n",
       "<style scoped>\n",
       "    .dataframe tbody tr th:only-of-type {\n",
       "        vertical-align: middle;\n",
       "    }\n",
       "\n",
       "    .dataframe tbody tr th {\n",
       "        vertical-align: top;\n",
       "    }\n",
       "\n",
       "    .dataframe thead th {\n",
       "        text-align: right;\n",
       "    }\n",
       "</style>\n",
       "<table border=\"1\" class=\"dataframe\">\n",
       "  <thead>\n",
       "    <tr style=\"text-align: right;\">\n",
       "      <th></th>\n",
       "      <th>index</th>\n",
       "      <th>error_id</th>\n",
       "      <th>error_file_name</th>\n",
       "      <th>miss_col</th>\n",
       "      <th>before</th>\n",
       "      <th>after</th>\n",
       "      <th>type</th>\n",
       "    </tr>\n",
       "  </thead>\n",
       "  <tbody>\n",
       "    <tr>\n",
       "      <th>0</th>\n",
       "      <td>148</td>\n",
       "      <td>20</td>\n",
       "      <td>incorrect</td>\n",
       "      <td>mask</td>\n",
       "      <td>incorrect</td>\n",
       "      <td>normal</td>\n",
       "      <td>file</td>\n",
       "    </tr>\n",
       "    <tr>\n",
       "      <th>1</th>\n",
       "      <td>106</td>\n",
       "      <td>225</td>\n",
       "      <td>incorrect</td>\n",
       "      <td>gender</td>\n",
       "      <td>female</td>\n",
       "      <td>male</td>\n",
       "      <td>all</td>\n",
       "    </tr>\n",
       "    <tr>\n",
       "      <th>2</th>\n",
       "      <td>107</td>\n",
       "      <td>664</td>\n",
       "      <td>incorrect</td>\n",
       "      <td>gender</td>\n",
       "      <td>female</td>\n",
       "      <td>male</td>\n",
       "      <td>all</td>\n",
       "    </tr>\n",
       "    <tr>\n",
       "      <th>3</th>\n",
       "      <td>121</td>\n",
       "      <td>667</td>\n",
       "      <td>incorrect</td>\n",
       "      <td>gender</td>\n",
       "      <td>female</td>\n",
       "      <td>male</td>\n",
       "      <td>all</td>\n",
       "    </tr>\n",
       "    <tr>\n",
       "      <th>4</th>\n",
       "      <td>122</td>\n",
       "      <td>725</td>\n",
       "      <td>incorrect</td>\n",
       "      <td>gender</td>\n",
       "      <td>female</td>\n",
       "      <td>male</td>\n",
       "      <td>all</td>\n",
       "    </tr>\n",
       "  </tbody>\n",
       "</table>\n",
       "</div>"
      ],
      "text/plain": [
       "   index error_id error_file_name miss_col     before   after  type\n",
       "0    148       20       incorrect     mask  incorrect  normal  file\n",
       "1    106      225       incorrect   gender     female    male   all\n",
       "2    107      664       incorrect   gender     female    male   all\n",
       "3    121      667       incorrect   gender     female    male   all\n",
       "4    122      725       incorrect   gender     female    male   all"
      ]
     },
     "execution_count": 124,
     "metadata": {},
     "output_type": "execute_result"
    }
   ],
   "source": [
    "df = pd.read_csv('/opt/ml/change_table.csv')\n",
    "df.head()"
   ]
  },
  {
   "cell_type": "code",
   "execution_count": 122,
   "metadata": {},
   "outputs": [],
   "source": [
    "def change_folder_name(df, idx):  \n",
    "    id_ = df['error_id'][idx]    \n",
    "\n",
    "    before_fold = [os.path.join(folder_dir, folder) for folder in folder_name if id_ in folder][0]\n",
    "    os.rename(before_fold, before_fold.replace(df['before'][idx], df['after'][idx]))\n",
    "\n",
    "    \n",
    "def change_file_name(df, idx):\n",
    "    id_ = df['error_id'][idx]\n",
    "    before_ = df['before'][idx]\n",
    "    after_ = df['after'][idx]\n",
    "    before_fold = [os.path.join(folder_dir, file) for file in all_file_list if id_ in file and (before_ in file or after_ in file)]\n",
    "\n",
    "    tmp_src, tmp_dst = before_fold[1].split('.')\n",
    "    tmp = tmp_src+'_tmp.'+tmp_dst\n",
    "\n",
    "    os.rename(before_fold[0], tmp)\n",
    "    os.rename(before_fold[1], before_fold[0])\n",
    "    os.rename(tmp, before_fold[1])\n"
   ]
  },
  {
   "cell_type": "code",
   "execution_count": 125,
   "metadata": {},
   "outputs": [
    {
     "name": "stdout",
     "output_type": "stream",
     "text": [
      "change file_name - 20 [incorrect -> normal]!\n",
      "change file_name - 4418 [incorrect -> normal]!\n",
      "change file_name - 5227 [incorrect -> normal]!\n"
     ]
    }
   ],
   "source": [
    "print(\"=\"*30)\n",
    "\n",
    "for idx in range(len(df)):\n",
    "    try:\n",
    "        line = df.iloc[idx]\n",
    "        if line['type'] == 'file':\n",
    "            change_file_name(df, idx)\n",
    "            print(\"change file_name - {} [{} <-> {}]!\".format(df['error_id'][idx], df['before'][idx], df['after'][idx]))\n",
    "        elif line['type'] == 'all':\n",
    "            change_folder_name(df, idx)\n",
    "            print(\"change folder_name - {} [{} -> {}]!\".format(df['error_id'][idx], df['before'][idx], df['after'][idx]))\n",
    "    except:\n",
    "        print(\"fail - \", idx)\n",
    "        \n",
    "print(\"=\"*30)"
   ]
  },
  {
   "cell_type": "code",
   "execution_count": null,
   "metadata": {},
   "outputs": [],
   "source": []
  }
 ],
 "metadata": {
  "interpreter": {
   "hash": "d4d1e4263499bec80672ea0156c357c1ee493ec2b1c70f0acce89fc37c4a6abe"
  },
  "kernelspec": {
   "display_name": "Python 3.8.12 ('base')",
   "language": "python",
   "name": "python3"
  },
  "language_info": {
   "codemirror_mode": {
    "name": "ipython",
    "version": 3
   },
   "file_extension": ".py",
   "mimetype": "text/x-python",
   "name": "python",
   "nbconvert_exporter": "python",
   "pygments_lexer": "ipython3",
   "version": "3.8.12"
  },
  "orig_nbformat": 4
 },
 "nbformat": 4,
 "nbformat_minor": 2
}
