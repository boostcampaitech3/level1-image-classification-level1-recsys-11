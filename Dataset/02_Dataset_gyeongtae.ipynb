{
 "cells": [
  {
   "cell_type": "markdown",
   "metadata": {},
   "source": [
    "# Dataset / Data Generation"
   ]
  },
  {
   "cell_type": "code",
   "execution_count": 2,
   "metadata": {},
   "outputs": [],
   "source": [
    "import os\n",
    "import numpy as np\n",
    "import pandas as pd\n",
    "from PIL import Image\n",
    "\n",
    "import matplotlib\n",
    "import matplotlib.pyplot as plt\n",
    "%matplotlib inline\n",
    "\n",
    "import warnings\n",
    "warnings.filterwarnings(\"ignore\")"
   ]
  },
  {
   "cell_type": "code",
   "execution_count": 3,
   "metadata": {},
   "outputs": [],
   "source": [
    "# train data 경로\n",
    "train_dir = '/opt/ml/input/data/train'"
   ]
  },
  {
   "cell_type": "code",
   "execution_count": 4,
   "metadata": {},
   "outputs": [],
   "source": [
    "train_info = pd.read_csv(os.path.join(train_dir, 'train.csv'))\n",
    "image_dir = os.path.join(train_dir, 'images')"
   ]
  },
  {
   "cell_type": "code",
   "execution_count": 5,
   "metadata": {},
   "outputs": [
    {
     "data": {
      "text/html": [
       "<div>\n",
       "<style scoped>\n",
       "    .dataframe tbody tr th:only-of-type {\n",
       "        vertical-align: middle;\n",
       "    }\n",
       "\n",
       "    .dataframe tbody tr th {\n",
       "        vertical-align: top;\n",
       "    }\n",
       "\n",
       "    .dataframe thead th {\n",
       "        text-align: right;\n",
       "    }\n",
       "</style>\n",
       "<table border=\"1\" class=\"dataframe\">\n",
       "  <thead>\n",
       "    <tr style=\"text-align: right;\">\n",
       "      <th></th>\n",
       "      <th>id</th>\n",
       "      <th>gender</th>\n",
       "      <th>race</th>\n",
       "      <th>age</th>\n",
       "      <th>path</th>\n",
       "    </tr>\n",
       "  </thead>\n",
       "  <tbody>\n",
       "    <tr>\n",
       "      <th>0</th>\n",
       "      <td>000001</td>\n",
       "      <td>female</td>\n",
       "      <td>Asian</td>\n",
       "      <td>45</td>\n",
       "      <td>000001_female_Asian_45</td>\n",
       "    </tr>\n",
       "    <tr>\n",
       "      <th>1</th>\n",
       "      <td>000002</td>\n",
       "      <td>female</td>\n",
       "      <td>Asian</td>\n",
       "      <td>52</td>\n",
       "      <td>000002_female_Asian_52</td>\n",
       "    </tr>\n",
       "    <tr>\n",
       "      <th>2</th>\n",
       "      <td>000004</td>\n",
       "      <td>male</td>\n",
       "      <td>Asian</td>\n",
       "      <td>54</td>\n",
       "      <td>000004_male_Asian_54</td>\n",
       "    </tr>\n",
       "    <tr>\n",
       "      <th>3</th>\n",
       "      <td>000005</td>\n",
       "      <td>female</td>\n",
       "      <td>Asian</td>\n",
       "      <td>58</td>\n",
       "      <td>000005_female_Asian_58</td>\n",
       "    </tr>\n",
       "    <tr>\n",
       "      <th>4</th>\n",
       "      <td>000006</td>\n",
       "      <td>female</td>\n",
       "      <td>Asian</td>\n",
       "      <td>59</td>\n",
       "      <td>000006_female_Asian_59</td>\n",
       "    </tr>\n",
       "  </tbody>\n",
       "</table>\n",
       "</div>"
      ],
      "text/plain": [
       "       id  gender   race  age                    path\n",
       "0  000001  female  Asian   45  000001_female_Asian_45\n",
       "1  000002  female  Asian   52  000002_female_Asian_52\n",
       "2  000004    male  Asian   54    000004_male_Asian_54\n",
       "3  000005  female  Asian   58  000005_female_Asian_58\n",
       "4  000006  female  Asian   59  000006_female_Asian_59"
      ]
     },
     "execution_count": 5,
     "metadata": {},
     "output_type": "execute_result"
    }
   ],
   "source": [
    "# train.info : label을 생성할 수 있다. \n",
    "train_info.head()"
   ]
  },
  {
   "cell_type": "code",
   "execution_count": 35,
   "metadata": {},
   "outputs": [],
   "source": [
    "data_directory =  '/opt/ml/input/data'\n",
    "\n",
    "TRAIN_CSV = f\"{data_directory}/train.csv\"\n",
    "TRAIN_PATH = f\"{data_directory}/train/images\"\n",
    "TEST_PATH = f\"{data_directory}/eval/images\""
   ]
  },
  {
   "cell_type": "code",
   "execution_count": 57,
   "metadata": {},
   "outputs": [],
   "source": [
    "import cv2\n",
    "\n",
    "import torch\n",
    "import torchvision\n",
    "from torchvision.transforms import ToPILImage\n",
    "from torchvision.transforms import functional as F\n",
    "from torch.utils.data import Dataset, DataLoader\n",
    "\n",
    "class MyDataset(Dataset):\n",
    "    def __init__(self, data_directory, mode, transforms = None, resize = False):\n",
    "        super().__init__()\n",
    "        # self.data_directory = data_directory\n",
    "        self.TRAIN_CSV = f\"{data_directory}/train.csv\"\n",
    "        self.TRAIN_PATH = f\"{data_directory}/train/images\"\n",
    "        self.TEST_PATH = f\"{data_directory}/eval/images\"\n",
    "        self.transforms = transforms\n",
    "        self.mode = mode\n",
    "        # self.train_info = train_info\n",
    "\n",
    "        # get the path of the image_path\n",
    "        data_path = []\n",
    "        labels = []\n",
    "        if mode == 'train':\n",
    "            people = sorted([who for who in os.listdir(TRAIN_PATH) if who[0] != '.'])\n",
    "            for who in people:\n",
    "                for mask_type in sorted([mask_type for mask_type in os.listdir(f\"{TRAIN_PATH}/{who}\") if mask_type[0] != '.']):\n",
    "                    data_path.append( os.path.join(f\"{TRAIN_PATH}/{who}/{mask_type}\") )\n",
    "\n",
    "                    _, gender, race, age = who.split('_')\n",
    "                    mask, _ = mask_type.split('.')\n",
    "\n",
    "                    score = 0\n",
    "                    # gender\n",
    "                    if gender == 'female': \n",
    "                        score += 3\n",
    "\n",
    "                    # ages\n",
    "                    age = int(age)\n",
    "                    if age >= 30 and age < 60 :\n",
    "                        score += 1\n",
    "                    elif age >= 60:\n",
    "                        score += 2\n",
    "\n",
    "                    # mask type\n",
    "                    if mask == \"incorrect_mask\" :\n",
    "                        score += 6\n",
    "                    elif mask == 'normal':\n",
    "                        score += 12\n",
    "\n",
    "                    labels.append(score)\n",
    "\n",
    "        elif mode == 'eval':\n",
    "            people = sorted([who for who in os.listdir(TEST_PATH) if who[0] != '.'])\n",
    "            for who in people:\n",
    "                # for mask_type in sorted([mask_type for mask_type in os.listdir(f\"{TEST_PATH}/{who}\") if mask_type[0] != '.']):\n",
    "                    data_path.append( os.path.join(f\"{TEST_PATH}/{who}\") )\n",
    "                \n",
    "        self.image_path = data_path\n",
    "        self.labels = labels\n",
    "                        \n",
    "    def __getitem__(self, idx):\n",
    "        img_path = self.image_path[idx]\n",
    "        img = cv2.imread(img_path, cv2.IMREAD_COLOR)\n",
    "\n",
    "        if self.mode == 'test':\n",
    "            return img\n",
    "        \n",
    "        label = self.labels[idx]\n",
    "        return img, label\n",
    "\n",
    "    \n",
    "    def __len__(self):\n",
    "            return len(self.img_path)\n",
    "    "
   ]
  },
  {
   "cell_type": "code",
   "execution_count": 59,
   "metadata": {},
   "outputs": [],
   "source": [
    "my_data = MyDataset(data_directory, mode='train', transforms=None, resize=None)"
   ]
  },
  {
   "cell_type": "code",
   "execution_count": 62,
   "metadata": {},
   "outputs": [
    {
     "data": {
      "text/plain": [
       "(array([[[185, 190, 191],\n",
       "         [185, 190, 191],\n",
       "         [185, 190, 191],\n",
       "         ...,\n",
       "         [195, 200, 201],\n",
       "         [195, 200, 201],\n",
       "         [195, 200, 201]],\n",
       " \n",
       "        [[185, 190, 191],\n",
       "         [185, 190, 191],\n",
       "         [185, 190, 191],\n",
       "         ...,\n",
       "         [195, 200, 201],\n",
       "         [195, 200, 201],\n",
       "         [195, 200, 201]],\n",
       " \n",
       "        [[185, 190, 191],\n",
       "         [185, 190, 191],\n",
       "         [185, 190, 191],\n",
       "         ...,\n",
       "         [195, 200, 201],\n",
       "         [195, 200, 201],\n",
       "         [195, 200, 201]],\n",
       " \n",
       "        ...,\n",
       " \n",
       "        [[ 60,  97, 149],\n",
       "         [ 61,  98, 150],\n",
       "         [ 61,  98, 150],\n",
       "         ...,\n",
       "         [ 64,  95, 150],\n",
       "         [ 62,  96, 150],\n",
       "         [ 62,  96, 150]],\n",
       " \n",
       "        [[ 57,  94, 146],\n",
       "         [ 57,  94, 146],\n",
       "         [ 57,  94, 146],\n",
       "         ...,\n",
       "         [ 68,  95, 152],\n",
       "         [ 68,  95, 152],\n",
       "         [ 68,  95, 152]],\n",
       " \n",
       "        [[ 54,  91, 143],\n",
       "         [ 54,  91, 143],\n",
       "         [ 54,  91, 143],\n",
       "         ...,\n",
       "         [ 71,  95, 153],\n",
       "         [ 71,  95, 155],\n",
       "         [ 71,  95, 155]]], dtype=uint8),\n",
       " 10)"
      ]
     },
     "execution_count": 62,
     "metadata": {},
     "output_type": "execute_result"
    }
   ],
   "source": [
    "next(iter(my_data))"
   ]
  },
  {
   "cell_type": "code",
   "execution_count": null,
   "metadata": {},
   "outputs": [],
   "source": []
  }
 ],
 "metadata": {
  "interpreter": {
   "hash": "d4d1e4263499bec80672ea0156c357c1ee493ec2b1c70f0acce89fc37c4a6abe"
  },
  "kernelspec": {
   "display_name": "Python 3.8.5 ('base')",
   "language": "python",
   "name": "python3"
  },
  "language_info": {
   "codemirror_mode": {
    "name": "ipython",
    "version": 3
   },
   "file_extension": ".py",
   "mimetype": "text/x-python",
   "name": "python",
   "nbconvert_exporter": "python",
   "pygments_lexer": "ipython3",
   "version": "3.8.5"
  },
  "orig_nbformat": 4
 },
 "nbformat": 4,
 "nbformat_minor": 2
}
